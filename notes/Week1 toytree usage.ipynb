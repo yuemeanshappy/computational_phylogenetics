{
 "cells": [
  {
   "cell_type": "markdown",
   "id": "783fb06b",
   "metadata": {},
   "source": [
    "# toytree basic usage"
   ]
  },
  {
   "cell_type": "markdown",
   "id": "885cf739",
   "metadata": {},
   "source": [
    "Notes: toytree is a Python tree plotting library designed for use inside jupyter notebooks"
   ]
  },
  {
   "cell_type": "markdown",
   "id": "904ce09a",
   "metadata": {},
   "source": []
  },
  {
   "cell_type": "code",
   "execution_count": null,
   "id": "32334fff",
   "metadata": {},
   "outputs": [],
   "source": []
  },
  {
   "cell_type": "markdown",
   "id": "1cf49f51",
   "metadata": {},
   "source": []
  }
 ],
 "metadata": {
  "kernelspec": {
   "display_name": "Python 3 (ipykernel)",
   "language": "python",
   "name": "python3"
  },
  "language_info": {
   "codemirror_mode": {
    "name": "ipython",
    "version": 3
   },
   "file_extension": ".py",
   "mimetype": "text/x-python",
   "name": "python",
   "nbconvert_exporter": "python",
   "pygments_lexer": "ipython3",
   "version": "3.9.7"
  }
 },
 "nbformat": 4,
 "nbformat_minor": 5
}
